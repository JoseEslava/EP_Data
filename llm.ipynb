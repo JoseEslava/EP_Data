{
 "cells": [
  {
   "cell_type": "code",
   "execution_count": 34,
   "metadata": {},
   "outputs": [
    {
     "data": {
      "text/plain": [
       "True"
      ]
     },
     "execution_count": 34,
     "metadata": {},
     "output_type": "execute_result"
    }
   ],
   "source": [
    "import os\n",
    "\n",
    "from dotenv import load_dotenv\n",
    "\n",
    "from langchain.chains import RetrievalQA\n",
    "from langchain.document_loaders.csv_loader import CSVLoader\n",
    "from langchain.text_splitter import CharacterTextSplitter\n",
    "from langchain_openai import ChatOpenAI, OpenAIEmbeddings\n",
    "from langchain.vectorstores import DocArrayInMemorySearch\n",
    "from langchain.prompts import PromptTemplate\n",
    "\n",
    "load_dotenv()"
   ]
  },
  {
   "cell_type": "code",
   "execution_count": 31,
   "metadata": {},
   "outputs": [],
   "source": [
    "loader = CSVLoader(file_path=\"anticorrupcion_intel.csv\", encoding=\"utf-8\", csv_args={'delimiter': ','})\n",
    "data = loader.load()"
   ]
  },
  {
   "cell_type": "code",
   "execution_count": null,
   "metadata": {},
   "outputs": [],
   "source": [
    "text_splitter = CharacterTextSplitter(separator='\\n')\n",
    "splits = text_splitter.split_documents(data)\n",
    "embeddings = OpenAIEmbeddings(openai_api_key=os.getenv(\"OPENAI_API_KEY\"))\n",
    "vectordb = DocArrayInMemorySearch.from_documents(splits, embeddings)\n",
    "retriever = vectordb.as_retriever(search_type=\"mmr\", search_kwargs={\"k\": 2, \"fetch_k\": 4})\n"
   ]
  },
  {
   "cell_type": "code",
   "execution_count": 35,
   "metadata": {},
   "outputs": [
    {
     "name": "stdout",
     "output_type": "stream",
     "text": [
      "Tu eres un investigador de corrupción y quieres encontrar patrones en los datos. \n",
      "Usa el siguiente contexto para responder la pregunta que se encuentra al final. \n",
      "En caso de no sber la respuesta, contesta con \"No sé la respuesta\". No busques información adicional.\n",
      "\n",
      "{context}\n",
      "Esta es la información que sabes para encontrar patrones, usa esta infrmación para mejorar tu búsqueda:\n",
      "nivelSalarial: 5\n",
      "Genero: 0\n",
      "Pregunta: {question}\n",
      "Tu respuesta:\n"
     ]
    }
   ],
   "source": [
    "# Filter the movies based on the user input\n",
    "#df_filtered = md[md['genres'].apply(lambda x: genre in x)]\n",
    "\n",
    "template_prefix = \"\"\"Tu eres un investigador de corrupción y quieres encontrar patrones en los datos. \n",
    "Usa el siguiente contexto para responder la pregunta que se encuentra al final. \n",
    "En caso de no sber la respuesta, contesta con \"No sé la respuesta\". No busques información adicional.\n",
    "\n",
    "{context}\"\"\"\n",
    "user_info = \"\"\"Esta es la información que sabes para encontrar patrones, usa esta infrmación para mejorar tu búsqueda:\n",
    "nivelSalarial: {nivelsalarial}\n",
    "Genero: {genero}\"\"\"\n",
    "\n",
    "template_suffix= \"\"\"Pregunta: {question}\n",
    "Tu respuesta:\"\"\"\n",
    "\n",
    "user_info = user_info.format(nivelsalarial = 5, genero = 0)\n",
    "\n",
    "COMBINED_PROMPT = template_prefix +'\\n'+ user_info +'\\n'+ template_suffix\n",
    "print(COMBINED_PROMPT)\n",
    "\n",
    "#setting up the chain\n",
    "llm = ChatOpenAI(\n",
    "    model=\"gpt-4\",\n",
    "    temperature=0,\n",
    "    openai_api_key=os.getenv(\"OPENAI_API_KEY\")\n",
    ")\n",
    "\n",
    "PROMPT = PromptTemplate(\n",
    "    template=COMBINED_PROMPT, input_variables=[\"context\", \"question\"])\n",
    "\n",
    "chain_type_kwargs = {\"prompt\": PROMPT}\n",
    "qa = RetrievalQA.from_chain_type(llm=llm,\n",
    "                                 chain_type=\"stuff\",\n",
    "                                 retriever=retriever,\n",
    "                                 return_source_documents=True,\n",
    "                                 chain_type_kwargs=chain_type_kwargs)\n",
    "\n",
    "\n"
   ]
  },
  {
   "cell_type": "code",
   "execution_count": 37,
   "metadata": {},
   "outputs": [
    {
     "name": "stderr",
     "output_type": "stream",
     "text": [
      "C:\\Users\\jesla\\AppData\\Local\\Temp\\ipykernel_19648\\2706562065.py:3: LangChainDeprecationWarning: The method `Chain.__call__` was deprecated in langchain 0.1.0 and will be removed in 1.0. Use :meth:`~invoke` instead.\n",
      "  result = qa({\"query\": query})\n"
     ]
    },
    {
     "name": "stdout",
     "output_type": "stream",
     "text": [
      "Para reducir la corrupción, recomendaría implementar las siguientes políticas públicas:\n",
      "\n",
      "1. Transparencia y acceso a la información: Es fundamental que la información sobre el uso de los recursos públicos sea accesible y comprensible para todos los ciudadanos. Esto incluye información sobre contratos, licitaciones, salarios y otros gastos del gobierno.\n",
      "\n",
      "2. Auditorías y controles internos: Es necesario fortalecer los sistemas de auditoría y control interno en todas las instituciones públicas para detectar y prevenir actos de corrupción.\n",
      "\n",
      "3. Sanciones efectivas: Las sanciones por actos de corrupción deben ser severas y efectivas para disuadir a los funcionarios de participar en estas prácticas.\n",
      "\n",
      "4. Educación y cultura de la legalidad: Es importante fomentar una cultura de la legalidad y la ética en la sociedad, lo cual incluye la educación sobre los efectos negativos de la corrupción.\n",
      "\n",
      "5. Participación ciudadana: Los ciudadanos deben tener un papel activo en la supervisión del gobierno y en la denuncia de actos de corrupción.\n",
      "\n",
      "6. Protección a los denunciantes: Las personas que denuncian actos de corrupción deben estar protegidas contra represalias.\n",
      "\n",
      "7. Mejora de los salarios de los funcionarios públicos: Un salario justo y competitivo puede reducir la tentación de participar en actos de corrupción.\n",
      "\n",
      "Estas políticas, si se implementan de manera efectiva, pueden ayudar a reducir la corrupción en el sector público.\n"
     ]
    }
   ],
   "source": [
    "query = '¿Qué políticas públicas recomiendas implementar para reducir la corrupción?'\n",
    "if query:\n",
    "    result = qa({\"query\": query})\n",
    "    print(result['result'])"
   ]
  }
 ],
 "metadata": {
  "kernelspec": {
   "display_name": "Python 3",
   "language": "python",
   "name": "python3"
  },
  "language_info": {
   "codemirror_mode": {
    "name": "ipython",
    "version": 3
   },
   "file_extension": ".py",
   "mimetype": "text/x-python",
   "name": "python",
   "nbconvert_exporter": "python",
   "pygments_lexer": "ipython3",
   "version": "3.10.11"
  }
 },
 "nbformat": 4,
 "nbformat_minor": 2
}
